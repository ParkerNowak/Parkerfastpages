{
 "cells": [
  {
   "cell_type": "code",
   "execution_count": null,
   "metadata": {},
   "outputs": [],
   "source": []
  },
  {
   "cell_type": "markdown",
   "metadata": {},
   "source": [
    "NOTES\n",
    "- My quiz is about the NFL Honors.\n",
    "- There are three questions about who won various awards\n",
    "- In order to move on to the next question you must choose the correct answer\n",
    "Link to my quiz:\n",
    "https://studio.code.org/projects/applab/xRYlAb_wy84Lcr-N-yk-8-5zNlEfZp5zUOkUrveJ7DY/edit\n",
    "\n"
   ]
  }
 ],
 "metadata": {
  "kernelspec": {
   "display_name": "Python 3.10.7 64-bit",
   "language": "python",
   "name": "python3"
  },
  "language_info": {
   "name": "python",
   "version": "3.10.7"
  },
  "orig_nbformat": 4,
  "vscode": {
   "interpreter": {
    "hash": "51305af0163d2e2cb49fba114a1090c9b71da931dba688d91d755048735e66eb"
   }
  }
 },
 "nbformat": 4,
 "nbformat_minor": 2
}
