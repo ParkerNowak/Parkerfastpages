{
 "cells": [
  {
   "cell_type": "markdown",
   "metadata": {},
   "source": [
    "Football is going to be my focuse for my final I am going to include different players and their stats compared to the rest of the nfl I can sort the players by their career totals for yards.\n",
    "Row: explain code segment or program functions. (Differentiate between program purpose and function)\n",
    "Row 2:Data Abstraction use abstraction to manage complexity in a program (two program codes: Shows how data has been stored in this list/ on that shows the data in this same list being used as part of fulfilling the program'd purpose)\n",
    "Row 3: Managing Complexity explain how abstraction manages complexity (program segment shows a list being used to manage complexity)\n",
    "Row 4:(describes what the identified procedure does and how it contribute to the overall functionality of the program)\n",
    "Row 5:(Includes the sequencing, selection, iteration)\n",
    "Row 6: Testing (describes the condition(s) being tested by each call to the procedure. \n",
    "identifies the result of each call.\n"
   ]
  }
 ],
 "metadata": {
  "language_info": {
   "name": "python"
  },
  "orig_nbformat": 4
 },
 "nbformat": 4,
 "nbformat_minor": 2
}
