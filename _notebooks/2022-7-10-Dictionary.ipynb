{
 "cells": [
  {
   "cell_type": "markdown",
   "metadata": {},
   "source": [
    "# List and Dictionary\n",
    "---\n",
    "- title: List and Dictionary\n",
    "- toc: true\n",
    "- comments: true\n",
    "- categories: [Notebook]\n",
    "---"
   ]
  },
  {
   "cell_type": "code",
   "execution_count": 3,
   "metadata": {},
   "outputs": [
    {
     "name": "stdout",
     "output_type": "stream",
     "text": [
      "[{'FirstName': 'Parker', 'LastName': 'Nowak', 'DOB': 'April 17', 'Residence': 'San Diego', 'FavColor': 'Orange', 'Email': 'prkrnwk@gmail.com', 'Owns_Cars': ['No Car']}, {'FirstName': 'Jake', 'LastName': 'Warren', 'DOB': 'September 8', 'Residence': 'San Diego', 'FavColor': 'Blue', 'Email': 'jacobw22751@stu.powayusd.com', 'Owns_Cars': ['2016-Toyota Tacoma']}, {'FirstName': 'Parker', 'LastName': 'Nowak', 'DOB': 'April 17', 'Residence': 'San Diego', 'FavColor': 'Orange', 'Email': 'prkrnwk@gmail.com', 'Owns_Cars': 'No Car'}]\n"
     ]
    }
   ],
   "source": [
    "InfoDb = []\n",
    "InfoDb.append({\n",
    "    \"FirstName\": \"Parker\",\n",
    "    \"LastName\": \"Nowak\",\n",
    "    \"DOB\": \"April 17\",\n",
    "    \"Residence\": \"San Diego\",\n",
    "    \"FavColor\": \"Orange\",\n",
    "    \"Email\": \"prkrnwk@gmail.com\",\n",
    "    \"Owns_Cars\": [\"No Car\"]\n",
    "})\n",
    "InfoDb.append({\n",
    "    \"FirstName\": \"Jake\",\n",
    "    \"LastName\": \"Warren\",\n",
    "    \"DOB\": \"September 8\",\n",
    "    \"Residence\": \"San Diego\",\n",
    "    \"FavColor\": \"Blue\",\n",
    "    \"Email\": \"jacobw22751@stu.powayusd.com\",\n",
    "    \"Owns_Cars\": [\"2016-Toyota Tacoma\"]\n",
    "})\n",
    "InfoDb.append({\n",
    "    \"FirstName\": input(\"Name:\"),\n",
    "    \"LastName\": input(\"Last Name:\"),\n",
    "    \"DOB\": input(\"DOB:\"),\n",
    "    \"Residence\": input(\"Residence\"),\n",
    "    \"FavColor\": input(\"Favorite Color\"),\n",
    "    \"Email\": input(\"Email:\"),\n",
    "    \"Owns_Cars\": input(\"Owned_Cars:\")\n",
    "})\n",
    "print(InfoDb)"
   ]
  },
  {
   "cell_type": "code",
   "execution_count": 4,
   "metadata": {},
   "outputs": [
    {
     "name": "stdout",
     "output_type": "stream",
     "text": [
      "For loop output\n",
      "\n",
      "Parker Nowak\n",
      "\t Residence: San Diego\n",
      "\t FavColor: Orange\n",
      "\t Birth Day: April 17\n",
      "\t Cars: ['No Car']\n",
      "\n",
      "Jake Warren\n",
      "\t Residence: San Diego\n",
      "\t FavColor: Blue\n",
      "\t Birth Day: September 8\n",
      "\t Cars: ['2016-Toyota Tacoma']\n",
      "\n",
      "Parker Nowak\n",
      "\t Residence: San Diego\n",
      "\t FavColor: Orange\n",
      "\t Birth Day: April 17\n",
      "\t Cars: No Car\n",
      "\n"
     ]
    }
   ],
   "source": [
    "def print_data(d_rec):\n",
    "    print(d_rec[\"FirstName\"], d_rec[\"LastName\"])  # using comma puts space between values\n",
    "    print(\"\\t\", \"Residence:\", d_rec[\"Residence\"]) # \\t is a tab indent\n",
    "    print(\"\\t\", \"FavColor:\", d_rec[\"FavColor\"])\n",
    "    print(\"\\t\", \"Birth Day:\", d_rec[\"DOB\"])\n",
    "    print(\"\\t\", \"Cars:\", d_rec[\"Owns_Cars\"])  # end=\"\" make sure no return occurs\n",
    "    print()\n",
    "def for_loop():\n",
    "    print(\"For loop output\\n\")\n",
    "    for record in InfoDb:\n",
    "        print_data(record)\n",
    "for_loop()"
   ]
  }
 ],
 "metadata": {
  "kernelspec": {
   "display_name": "Python 3.10.7 64-bit",
   "language": "python",
   "name": "python3"
  },
  "language_info": {
   "codemirror_mode": {
    "name": "ipython",
    "version": 3
   },
   "file_extension": ".py",
   "mimetype": "text/x-python",
   "name": "python",
   "nbconvert_exporter": "python",
   "pygments_lexer": "ipython3",
   "version": "3.10.7"
  },
  "orig_nbformat": 4,
  "vscode": {
   "interpreter": {
    "hash": "51305af0163d2e2cb49fba114a1090c9b71da931dba688d91d755048735e66eb"
   }
  }
 },
 "nbformat": 4,
 "nbformat_minor": 2
}
